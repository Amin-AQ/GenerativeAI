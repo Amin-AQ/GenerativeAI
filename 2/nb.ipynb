{
 "cells": [
  {
   "cell_type": "code",
   "execution_count": 2,
   "id": "2b3ceca2",
   "metadata": {},
   "outputs": [
    {
     "name": "stdout",
     "output_type": "stream",
     "text": [
      "Collecting datasets\n",
      "  Using cached datasets-3.5.0-py3-none-any.whl (491 kB)\n",
      "Requirement already satisfied: filelock in c:\\users\\cs\\documents\\github\\generativeai\\2\\venv\\lib\\site-packages (from datasets) (3.18.0)\n",
      "Collecting pyarrow>=15.0.0\n",
      "  Using cached pyarrow-19.0.1-cp310-cp310-win_amd64.whl (25.3 MB)\n",
      "Collecting multiprocess<0.70.17\n",
      "  Using cached multiprocess-0.70.16-py310-none-any.whl (134 kB)\n",
      "Requirement already satisfied: tqdm>=4.66.3 in c:\\users\\cs\\documents\\github\\generativeai\\2\\venv\\lib\\site-packages (from datasets) (4.67.1)\n",
      "Collecting pandas\n",
      "  Using cached pandas-2.2.3-cp310-cp310-win_amd64.whl (11.6 MB)\n",
      "Requirement already satisfied: pyyaml>=5.1 in c:\\users\\cs\\documents\\github\\generativeai\\2\\venv\\lib\\site-packages (from datasets) (6.0.2)\n",
      "Requirement already satisfied: requests>=2.32.2 in c:\\users\\cs\\documents\\github\\generativeai\\2\\venv\\lib\\site-packages (from datasets) (2.32.3)\n",
      "Collecting xxhash\n",
      "  Using cached xxhash-3.5.0-cp310-cp310-win_amd64.whl (30 kB)\n",
      "Requirement already satisfied: numpy>=1.17 in c:\\users\\cs\\documents\\github\\generativeai\\2\\venv\\lib\\site-packages (from datasets) (2.2.4)\n",
      "Collecting aiohttp\n",
      "  Using cached aiohttp-3.11.16-cp310-cp310-win_amd64.whl (442 kB)\n",
      "Collecting dill<0.3.9,>=0.3.0\n",
      "  Using cached dill-0.3.8-py3-none-any.whl (116 kB)\n",
      "Collecting fsspec[http]<=2024.12.0,>=2023.1.0\n",
      "  Using cached fsspec-2024.12.0-py3-none-any.whl (183 kB)\n",
      "Requirement already satisfied: huggingface-hub>=0.24.0 in c:\\users\\cs\\documents\\github\\generativeai\\2\\venv\\lib\\site-packages (from datasets) (0.30.1)\n",
      "Requirement already satisfied: packaging in c:\\users\\cs\\documents\\github\\generativeai\\2\\venv\\lib\\site-packages (from datasets) (24.2)\n",
      "Collecting frozenlist>=1.1.1\n",
      "  Using cached frozenlist-1.5.0-cp310-cp310-win_amd64.whl (51 kB)\n",
      "Collecting multidict<7.0,>=4.5\n",
      "  Using cached multidict-6.3.2-cp310-cp310-win_amd64.whl (38 kB)\n",
      "Collecting aiosignal>=1.1.2\n",
      "  Using cached aiosignal-1.3.2-py2.py3-none-any.whl (7.6 kB)\n",
      "Collecting aiohappyeyeballs>=2.3.0\n",
      "  Using cached aiohappyeyeballs-2.6.1-py3-none-any.whl (15 kB)\n",
      "Collecting propcache>=0.2.0\n",
      "  Using cached propcache-0.3.1-cp310-cp310-win_amd64.whl (45 kB)\n",
      "Collecting async-timeout<6.0,>=4.0\n",
      "  Using cached async_timeout-5.0.1-py3-none-any.whl (6.2 kB)\n",
      "Collecting yarl<2.0,>=1.17.0\n",
      "  Using cached yarl-1.19.0-cp310-cp310-win_amd64.whl (92 kB)\n",
      "Collecting attrs>=17.3.0\n",
      "  Using cached attrs-25.3.0-py3-none-any.whl (63 kB)\n",
      "Requirement already satisfied: typing-extensions>=3.7.4.3 in c:\\users\\cs\\documents\\github\\generativeai\\2\\venv\\lib\\site-packages (from huggingface-hub>=0.24.0->datasets) (4.13.1)\n",
      "Requirement already satisfied: certifi>=2017.4.17 in c:\\users\\cs\\documents\\github\\generativeai\\2\\venv\\lib\\site-packages (from requests>=2.32.2->datasets) (2025.1.31)\n",
      "Requirement already satisfied: charset-normalizer<4,>=2 in c:\\users\\cs\\documents\\github\\generativeai\\2\\venv\\lib\\site-packages (from requests>=2.32.2->datasets) (3.4.1)\n",
      "Requirement already satisfied: urllib3<3,>=1.21.1 in c:\\users\\cs\\documents\\github\\generativeai\\2\\venv\\lib\\site-packages (from requests>=2.32.2->datasets) (2.3.0)\n",
      "Requirement already satisfied: idna<4,>=2.5 in c:\\users\\cs\\documents\\github\\generativeai\\2\\venv\\lib\\site-packages (from requests>=2.32.2->datasets) (3.10)\n",
      "Requirement already satisfied: colorama in c:\\users\\cs\\documents\\github\\generativeai\\2\\venv\\lib\\site-packages (from tqdm>=4.66.3->datasets) (0.4.6)\n",
      "Requirement already satisfied: python-dateutil>=2.8.2 in c:\\users\\cs\\documents\\github\\generativeai\\2\\venv\\lib\\site-packages (from pandas->datasets) (2.9.0.post0)\n",
      "Collecting tzdata>=2022.7\n",
      "  Using cached tzdata-2025.2-py2.py3-none-any.whl (347 kB)\n",
      "Collecting pytz>=2020.1\n",
      "  Using cached pytz-2025.2-py2.py3-none-any.whl (509 kB)\n",
      "Requirement already satisfied: six>=1.5 in c:\\users\\cs\\documents\\github\\generativeai\\2\\venv\\lib\\site-packages (from python-dateutil>=2.8.2->pandas->datasets) (1.17.0)\n",
      "Installing collected packages: pytz, xxhash, tzdata, pyarrow, propcache, multidict, fsspec, frozenlist, dill, attrs, async-timeout, aiohappyeyeballs, yarl, pandas, multiprocess, aiosignal, aiohttp, datasets\n",
      "  Attempting uninstall: fsspec\n",
      "    Found existing installation: fsspec 2025.3.2\n",
      "    Can't uninstall 'fsspec'. No files were found to uninstall.\n",
      "Successfully installed aiohappyeyeballs-2.6.1 aiohttp-3.11.16 aiosignal-1.3.2 async-timeout-5.0.1 attrs-25.3.0 datasets-3.5.0 dill-0.3.8 frozenlist-1.5.0 fsspec-2024.12.0 multidict-6.3.2 multiprocess-0.70.16 pandas-2.2.3 propcache-0.3.1 pyarrow-19.0.1 pytz-2025.2 tzdata-2025.2 xxhash-3.5.0 yarl-1.19.0\n",
      "Note: you may need to restart the kernel to use updated packages.\n"
     ]
    },
    {
     "name": "stderr",
     "output_type": "stream",
     "text": [
      "WARNING: Error parsing requirements for fsspec: [Errno 2] No such file or directory: 'c:\\\\users\\\\cs\\\\documents\\\\github\\\\generativeai\\\\2\\\\venv\\\\lib\\\\site-packages\\\\fsspec-2025.3.2.dist-info\\\\METADATA'\n",
      "    WARNING: No metadata found in c:\\users\\cs\\documents\\github\\generativeai\\2\\venv\\lib\\site-packages\n",
      "\n",
      "[notice] A new release of pip is available: 23.0.1 -> 25.0.1\n",
      "[notice] To update, run: python.exe -m pip install --upgrade pip\n"
     ]
    }
   ],
   "source": [
    "pip install datasets"
   ]
  },
  {
   "cell_type": "code",
   "execution_count": 3,
   "id": "7e1deec4",
   "metadata": {},
   "outputs": [
    {
     "name": "stderr",
     "output_type": "stream",
     "text": [
      "c:\\Users\\CS\\Documents\\GitHub\\GenerativeAI\\2\\venv\\lib\\site-packages\\tqdm\\auto.py:21: TqdmWarning: IProgress not found. Please update jupyter and ipywidgets. See https://ipywidgets.readthedocs.io/en/stable/user_install.html\n",
      "  from .autonotebook import tqdm as notebook_tqdm\n",
      "c:\\Users\\CS\\Documents\\GitHub\\GenerativeAI\\2\\venv\\lib\\site-packages\\huggingface_hub\\file_download.py:144: UserWarning: `huggingface_hub` cache-system uses symlinks by default to efficiently store duplicated files but your machine does not support them in C:\\Users\\CS\\.cache\\huggingface\\hub\\datasets--greengerong--leetcode. Caching files will still work but in a degraded version that might require more space on your disk. This warning can be disabled by setting the `HF_HUB_DISABLE_SYMLINKS_WARNING` environment variable. For more details, see https://huggingface.co/docs/huggingface_hub/how-to-cache#limitations.\n",
      "To support symlinks on Windows, you either need to activate Developer Mode or to run Python as an administrator. In order to activate developer mode, see this article: https://docs.microsoft.com/en-us/windows/apps/get-started/enable-your-device-for-development\n",
      "  warnings.warn(message)\n",
      "Generating train split: 100%|██████████| 2360/2360 [00:00<00:00, 16314.28 examples/s]\n",
      "Saving the dataset (1/1 shards): 100%|██████████| 2360/2360 [00:00<00:00, 36648.56 examples/s]\n"
     ]
    }
   ],
   "source": [
    "from datasets import load_dataset\n",
    "dataset = load_dataset(\"greengerong/leetcode\")\n",
    "dataset.save_to_disk(\"leetcode_data\")\n"
   ]
  },
  {
   "cell_type": "code",
   "execution_count": null,
   "id": "8efb2da7",
   "metadata": {},
   "outputs": [],
   "source": []
  }
 ],
 "metadata": {
  "kernelspec": {
   "display_name": "venv",
   "language": "python",
   "name": "python3"
  },
  "language_info": {
   "codemirror_mode": {
    "name": "ipython",
    "version": 3
   },
   "file_extension": ".py",
   "mimetype": "text/x-python",
   "name": "python",
   "nbconvert_exporter": "python",
   "pygments_lexer": "ipython3",
   "version": "3.10.11"
  }
 },
 "nbformat": 4,
 "nbformat_minor": 5
}
