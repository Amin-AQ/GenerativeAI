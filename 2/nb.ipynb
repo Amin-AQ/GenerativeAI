{
 "cells": [
  {
   "cell_type": "markdown",
   "metadata": {},
   "source": [
    "$$\n",
    "y_i = \\frac{x_i}{\\mathrm{RMS}(x)} * \\gamma_i, \\quad \\text{where} \\quad \\text{RMS}(x) = \\sqrt{\\epsilon + \\frac{1}{n} \\sum_{i=1}^{n} x_i^2}\n",
    "$$"
   ]
  },
  {
   "cell_type": "markdown",
   "metadata": {},
   "source": [
    "Returns a 1-D tensor of size $$\\left\\lceil \\frac{\\text{end} - \\text{start}}{\\text{step}} \\right\\rceil$$ with values from the interval [start, end) taken with common difference step beginning from start.\n",
    "\n",
    "Note: When using floating-point dtypes (especially reduced precision types like bfloat16), the results may be affected by floating-point rounding behavior. Some values in the sequence might not be exactly representable in certain floating-point formats, which can lead to repeated values or unexpected rounding. For precise sequences, it is recommended to use integer dtypes instead of floating-point dtypes.\n",
    "\n",
    "Note that non-integer step is subject to floating point rounding errors when comparing against end; to avoid inconsistency, we advise subtracting a small epsilon from end in such cases.\n",
    "\n",
    "math\n",
    "$$\n",
    "\\text{out}{{i+1}} = \\text{out}{i} + \\text{step}\n",
    "$$\n",
    "Args\n",
    "start : Number\n",
    "the starting value for the set of points. Default: 0.\n",
    "\n",
    "end : Number\n",
    "the ending value for the set of points\n",
    "\n",
    "step : Number\n",
    "the gap between each pair of adjacent points. Default: 1."
   ]
  },
  {
   "cell_type": "code",
   "execution_count": null,
   "metadata": {},
   "outputs": [],
   "source": []
  }
 ],
 "metadata": {
  "kernelspec": {
   "display_name": "venv",
   "language": "python",
   "name": "python3"
  },
  "language_info": {
   "name": "python",
   "version": "3.10.11"
  }
 },
 "nbformat": 4,
 "nbformat_minor": 2
}
